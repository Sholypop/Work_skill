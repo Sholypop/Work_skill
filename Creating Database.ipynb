{
 "cells": [
  {
   "cell_type": "code",
   "execution_count": 1,
   "id": "0e6e3efb",
   "metadata": {},
   "outputs": [
    {
     "name": "stdout",
     "output_type": "stream",
     "text": [
      "Collecting psycopg2\n",
      "  Downloading psycopg2-2.9.6.tar.gz (383 kB)\n",
      "\u001b[2K     \u001b[90m━━━━━━━━━━━━━━━━━━━━━━━━━━━━━━━━━━━━━━━\u001b[0m \u001b[32m384.0/384.0 kB\u001b[0m \u001b[31m3.7 MB/s\u001b[0m eta \u001b[36m0:00:00\u001b[0ma \u001b[36m0:00:01\u001b[0m\n",
      "\u001b[?25h  Preparing metadata (setup.py) ... \u001b[?25ldone\n",
      "\u001b[?25hBuilding wheels for collected packages: psycopg2\n",
      "  Building wheel for psycopg2 (setup.py) ... \u001b[?25ldone\n",
      "\u001b[?25h  Created wheel for psycopg2: filename=psycopg2-2.9.6-cp39-cp39-macosx_10_9_x86_64.whl size=133964 sha256=a04edc784f702a14dfdfca6f8a41fb6d3acd061770427927969c0ba2c261401f\n",
      "  Stored in directory: /Users/sholamicheal/Library/Caches/pip/wheels/e0/1d/09/2bc95af38e38d614767de0126fbf27a55a5c277f612aa6a51f\n",
      "Successfully built psycopg2\n",
      "Installing collected packages: psycopg2\n",
      "Successfully installed psycopg2-2.9.6\n"
     ]
    }
   ],
   "source": [
    "!pip install psycopg2"
   ]
  },
  {
   "cell_type": "code",
   "execution_count": 2,
   "id": "f8224b1a",
   "metadata": {},
   "outputs": [],
   "source": [
    "import psycopg2"
   ]
  },
  {
   "cell_type": "code",
   "execution_count": 6,
   "id": "b0f18e00",
   "metadata": {},
   "outputs": [],
   "source": [
    "# Create a connection to the dataBase\n",
    "\n",
    "try:\n",
    "    conn = psycopg2.connect(\"host=127.0.0.1 dbname=postgres user=postgres password=sholypop\")\n",
    "\n",
    "except psycopg2.Error as e:\n",
    "    print('Error: Could not make connection to the postgre database')\n",
    "    print(e)"
   ]
  },
  {
   "cell_type": "code",
   "execution_count": 7,
   "id": "b52e5742",
   "metadata": {},
   "outputs": [],
   "source": [
    "# using connection to get Cursor to execute querries command\n",
    "\n",
    "try:\n",
    "    cur = conn.cursor()\n",
    "except psycopg2.Error as e:\n",
    "    print('Error: Could not get cursor to the database')\n",
    "    print(e)"
   ]
  },
  {
   "cell_type": "code",
   "execution_count": 8,
   "id": "035e2310",
   "metadata": {},
   "outputs": [],
   "source": [
    "# set automatic commit to true to avoid calling conn.commit() after each command\n",
    "\n",
    "conn.set_session(autocommit=True)"
   ]
  },
  {
   "cell_type": "code",
   "execution_count": 9,
   "id": "580778f5",
   "metadata": {},
   "outputs": [],
   "source": [
    "# Creating database\n",
    "\n",
    "try:\n",
    "    cur.execute('create database mydatabase')\n",
    "except psycopg2.Error as e:\n",
    "    print(e)"
   ]
  },
  {
   "cell_type": "code",
   "execution_count": 10,
   "id": "f9169b26",
   "metadata": {},
   "outputs": [],
   "source": [
    "# closing the connection\n",
    "conn.close()"
   ]
  },
  {
   "cell_type": "markdown",
   "id": "07a01bc3",
   "metadata": {},
   "source": [
    "# Connecting into the new database we just created"
   ]
  },
  {
   "cell_type": "code",
   "execution_count": 11,
   "id": "8db55c74",
   "metadata": {},
   "outputs": [],
   "source": [
    "# Create a connection to the dataBase\n",
    "\n",
    "try:\n",
    "    conn = psycopg2.connect(\"host=127.0.0.1 dbname=mydatabase user=postgres password=sholypop\")\n",
    "\n",
    "except psycopg2.Error as e:\n",
    "    print('Error: Could not make connection to the postgre database')\n",
    "    print(e)\n",
    "    \n",
    "# using connection to get Cursor to execute querries command\n",
    "\n",
    "try:\n",
    "    cur = conn.cursor()\n",
    "except psycopg2.Error as e:\n",
    "    print('Error: Could not get cursor to the database')\n",
    "    print(e)\n",
    "    \n",
    "# set automatic commit to true to avoid calling conn.commit() after each command\n",
    "\n",
    "conn.set_session(autocommit=True)"
   ]
  },
  {
   "cell_type": "markdown",
   "id": "27aca7ed",
   "metadata": {},
   "source": [
    "# creating a table for students"
   ]
  },
  {
   "cell_type": "code",
   "execution_count": 13,
   "id": "26aab068",
   "metadata": {},
   "outputs": [],
   "source": [
    "try:\n",
    "    cur.execute(\"CREATE TABLE IF NOT EXISTS student(student_id int, name varchar,\\\n",
    "    age int, gender varchar, subject varchar, marks int);\")\n",
    "\n",
    "except psycopg2.Error as e:\n",
    "    print(e)"
   ]
  },
  {
   "cell_type": "markdown",
   "id": "ad38ea21",
   "metadata": {},
   "source": [
    "# insert into the table"
   ]
  },
  {
   "cell_type": "code",
   "execution_count": 14,
   "id": "131f1d46",
   "metadata": {},
   "outputs": [],
   "source": [
    "try:\n",
    "    cur.execute(\"INSERT INTO student(student_id, name, age, gender, subject, marks)\\\n",
    "    VALUES(%s, %s, %s, %s, %s, %s)\",\\\n",
    "               (1,'john',24,'male','python', 70))\n",
    "    \n",
    "except psycopg2.Error as e:\n",
    "    print('Error: Inserting rows')\n",
    "    print(e)"
   ]
  },
  {
   "cell_type": "code",
   "execution_count": 15,
   "id": "63c58c2f",
   "metadata": {},
   "outputs": [],
   "source": [
    "cur.execute(\"INSERT INTO student(student_id, name, age, gender, subject, marks)\\\n",
    "    VALUES(%s, %s, %s, %s, %s, %s)\",\\\n",
    "               (2,'sandra',27,'female','python', 76))"
   ]
  },
  {
   "cell_type": "markdown",
   "id": "831729c9",
   "metadata": {},
   "source": [
    "# Validate your data was inserted into the table"
   ]
  },
  {
   "cell_type": "code",
   "execution_count": 17,
   "id": "efbafa1e",
   "metadata": {},
   "outputs": [
    {
     "name": "stdout",
     "output_type": "stream",
     "text": [
      "(1, 'john', 24, 'male', 'python', 70)\n",
      "(2, 'sandra', 27, 'female', 'python', 76)\n"
     ]
    }
   ],
   "source": [
    "try:\n",
    "    cur.execute(\"SELECT * FROM student\")\n",
    "except psycopg2.Error as e:\n",
    "    print('Error: Select *')\n",
    "    \n",
    "row = cur.fetchone()\n",
    "while row:\n",
    "    print(row)\n",
    "    row = cur.fetchone()"
   ]
  },
  {
   "cell_type": "markdown",
   "id": "a428834f",
   "metadata": {},
   "source": [
    "# close connection"
   ]
  },
  {
   "cell_type": "code",
   "execution_count": 18,
   "id": "c75f276e",
   "metadata": {},
   "outputs": [],
   "source": [
    "cur.close()\n",
    "conn.close()"
   ]
  },
  {
   "cell_type": "code",
   "execution_count": null,
   "id": "1ae5c959",
   "metadata": {},
   "outputs": [],
   "source": []
  }
 ],
 "metadata": {
  "kernelspec": {
   "display_name": "Python 3 (ipykernel)",
   "language": "python",
   "name": "python3"
  },
  "language_info": {
   "codemirror_mode": {
    "name": "ipython",
    "version": 3
   },
   "file_extension": ".py",
   "mimetype": "text/x-python",
   "name": "python",
   "nbconvert_exporter": "python",
   "pygments_lexer": "ipython3",
   "version": "3.9.16"
  }
 },
 "nbformat": 4,
 "nbformat_minor": 5
}
