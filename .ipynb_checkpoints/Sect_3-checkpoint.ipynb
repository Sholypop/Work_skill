{
 "cells": [
  {
   "cell_type": "markdown",
   "id": "6e744a7d",
   "metadata": {},
   "source": [
    "# 1\n",
    "## Vote Casting App"
   ]
  },
  {
   "cell_type": "code",
   "execution_count": null,
   "id": "1ce6d2ea",
   "metadata": {},
   "outputs": [],
   "source": [
    "# Task to register leader name who want to participate in election\n",
    "leader = []\n",
    "for i in range(1, 6):\n",
    "    leader_name = input(\"Enter your leader name :\")\n",
    "    leader.append(leader_name)\n",
    "    n = len(leader)\n",
    "    if n < 5 :\n",
    "        print(\"You have been successfully registerd\")\n",
    "    else :\n",
    "        print(\"Maximum candidate have been enrolled\")"
   ]
  },
  {
   "cell_type": "code",
   "execution_count": null,
   "id": "59e71b7d",
   "metadata": {},
   "outputs": [],
   "source": [
    "# Task to register candidate who want to caste their vote   \n",
    "voter = []\n",
    "number = int(input(\"Enter total number of voter want to cast their vote :\"))\n",
    "for i in range(1,number + 1):\n",
    "    voter_id = int(input(\"Enter voter id number :\"))\n",
    "    voter.append(voter_id)"
   ]
  },
  {
   "cell_type": "code",
   "execution_count": null,
   "id": "b8546bec",
   "metadata": {},
   "outputs": [],
   "source": [
    "while True :\n",
    "    if voter ==[]:\n",
    "        print(\"Voting session is over\")\n",
    "        max = leader_1_votes\n",
    "        if leader_2_votes > max:\n",
    "            max = leader_2_votes\n",
    "            percent = (leader_2_votes/num_of_voter)*100\n",
    "            print(leader[1],\"has won\",\"with\",percent,\"% votes\")\n",
    "            break\n",
    "        elif leader_3_votes > max:\n",
    "            max = leader_3_votes\n",
    "            percent = (leader_3_votes/num_of_voter)*100\n",
    "            print(leader[2],\"has won\",\"with\",percent,\"% votes\")\n",
    "            break\n",
    "        elif leader_4_votes > max:\n",
    "            max = leader_4_votes\n",
    "            percent = (leader_4_votes/num_of_voter)*100\n",
    "            print(leader[3],\"has won\",\"with\",percent,\"% votes\")\n",
    "            break\n",
    "        elif leader_5_votes > max:\n",
    "            max = leader_5_votes\n",
    "            percent = (leader_5_votes/num_of_voter)*100\n",
    "            print(leader[4],\"has won\",\"with\",percent,\"% votes\")\n",
    "            break\n",
    "        else :\n",
    "            percent = (leader_1_votes/num_of_voter)*100\n",
    "            print(leader[0],\"has won\",\"with\",percent,\"% votes\")\n",
    "            break\n",
    "         \n",
    "         \n",
    "    else :    \n",
    "         voter_id = int(input(\"Enter your voter-id no :\"))\n",
    "         if voter_id in voter:\n",
    "            print(\"You are a voter \")\n",
    "            voter.remove(voter_id)\n",
    "            print(\"========================================================\\n\")\n",
    "            print(\"Here are the list of leader name :\")\n",
    "            print(\" 1.leader-1 : \",leader[0],\n",
    "                  \"\\n 2.leader-2 :\",leader[1],\n",
    "                  \"\\n 3.leader-3 :\",leader[2], \n",
    "                  \"\\n 4.leader-4 :\",leader[3],\n",
    "                  \"\\n 5.leader-5 :\",leader[4])\n",
    "             \n",
    "            vote = int(input(\"Cast your vote for leader 1 or leader2 or leader3 or leader4 or leader5  :\\n\"\n",
    "             \" Write only sr. no of leader(like 1 or 2 ) :\\n\"))\n",
    "            print(\"===========================================================\\n\")\n",
    "            if vote == 1:\n",
    "               leader_1_votes+=1\n",
    "               print(\"Thank you for casting your vote \")\n",
    "            elif vote == 2:\n",
    "               leader_2_votes+=1\n",
    "               print(\"Thank you for casting your vote\")\n",
    "            elif vote == 3:\n",
    "               leader_3_votes+=1\n",
    "               print(\"Thank you for casting your vote\")\n",
    "            elif vote == 4:\n",
    "               leader_4_votes+=1\n",
    "               print(\"Thank you for casting your vote\")\n",
    "            elif vote == 5:\n",
    "               leader_5_votes+=1\n",
    "               print(\"Thank you for casting your vote\")\n",
    "            else :\n",
    "                print(\"Leader is not found \\n PLease enter correct leader number\")\n",
    "         \n",
    "         \n",
    "         else :\n",
    "                \n",
    "               print(\"You have already voted or invalid voter id  \")"
   ]
  },
  {
   "cell_type": "code",
   "execution_count": null,
   "id": "10fd0439",
   "metadata": {},
   "outputs": [],
   "source": []
  },
  {
   "cell_type": "code",
   "execution_count": null,
   "id": "8ef89e1a",
   "metadata": {},
   "outputs": [],
   "source": []
  },
  {
   "cell_type": "code",
   "execution_count": null,
   "id": "46d9cf2e",
   "metadata": {},
   "outputs": [],
   "source": []
  },
  {
   "cell_type": "code",
   "execution_count": null,
   "id": "a3f3f935",
   "metadata": {},
   "outputs": [],
   "source": []
  },
  {
   "cell_type": "code",
   "execution_count": null,
   "id": "b119fce9",
   "metadata": {},
   "outputs": [],
   "source": []
  },
  {
   "cell_type": "code",
   "execution_count": null,
   "id": "800926a4",
   "metadata": {},
   "outputs": [],
   "source": []
  },
  {
   "cell_type": "code",
   "execution_count": null,
   "id": "4ab060a3",
   "metadata": {},
   "outputs": [],
   "source": []
  },
  {
   "cell_type": "code",
   "execution_count": null,
   "id": "3bbf30ba",
   "metadata": {},
   "outputs": [],
   "source": []
  },
  {
   "cell_type": "code",
   "execution_count": null,
   "id": "882825c9",
   "metadata": {},
   "outputs": [],
   "source": []
  },
  {
   "cell_type": "code",
   "execution_count": null,
   "id": "9dcf92e5",
   "metadata": {},
   "outputs": [],
   "source": []
  }
 ],
 "metadata": {
  "kernelspec": {
   "display_name": "Python 3 (ipykernel)",
   "language": "python",
   "name": "python3"
  },
  "language_info": {
   "codemirror_mode": {
    "name": "ipython",
    "version": 3
   },
   "file_extension": ".py",
   "mimetype": "text/x-python",
   "name": "python",
   "nbconvert_exporter": "python",
   "pygments_lexer": "ipython3",
   "version": "3.9.13"
  }
 },
 "nbformat": 4,
 "nbformat_minor": 5
}
