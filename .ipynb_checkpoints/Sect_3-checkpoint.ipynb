{
 "cells": [
  {
   "cell_type": "markdown",
   "id": "c09df1bf",
   "metadata": {},
   "source": [
    "# 1\n",
    "## Vote Casting App"
   ]
  },
  {
   "cell_type": "code",
   "execution_count": null,
   "id": "109baadb",
   "metadata": {},
   "outputs": [],
   "source": [
    "# Task to register leader name who want to participate in election\n",
    "leader = []\n",
    "for i in range(1, 6):\n",
    "    leader_name = input(\"Enter your leader name :\")\n",
    "    leader.append(leader_name)\n",
    "    n = len(leader)\n",
    "    if n < 5 :\n",
    "        print(\"You have been successfully registerd\")\n",
    "    else :\n",
    "        print(\"Maximum candidate have been enrolled\")"
   ]
  },
  {
   "cell_type": "code",
   "execution_count": null,
   "id": "fe04043d",
   "metadata": {},
   "outputs": [],
   "source": [
    "# Task to register candidate who want to caste their vote   \n",
    "voter = []\n",
    "number = int(input(\"Enter total number of voter want to cast their vote :\"))\n",
    "for i in range(1,number + 1):\n",
    "    voter_id = int(input(\"Enter voter id number :\"))\n",
    "    voter.append(voter_id)"
   ]
  },
  {
   "cell_type": "code",
   "execution_count": null,
   "id": "8a9ed9d4",
   "metadata": {},
   "outputs": [],
   "source": [
    "while True :\n",
    "    if voter ==[]:\n",
    "        print(\"Voting session is over\")\n",
    "        max = leader_1_votes\n",
    "        if leader_2_votes > max:\n",
    "            max = leader_2_votes\n",
    "            percent = (leader_2_votes/num_of_voter)*100\n",
    "            print(leader[1],\"has won\",\"with\",percent,\"% votes\")\n",
    "            break\n",
    "        elif leader_3_votes > max:\n",
    "            max = leader_3_votes\n",
    "            percent = (leader_3_votes/num_of_voter)*100\n",
    "            print(leader[2],\"has won\",\"with\",percent,\"% votes\")\n",
    "            break\n",
    "        elif leader_4_votes > max:\n",
    "            max = leader_4_votes\n",
    "            percent = (leader_4_votes/num_of_voter)*100\n",
    "            print(leader[3],\"has won\",\"with\",percent,\"% votes\")\n",
    "            break\n",
    "        elif leader_5_votes > max:\n",
    "            max = leader_5_votes\n",
    "            percent = (leader_5_votes/num_of_voter)*100\n",
    "            print(leader[4],\"has won\",\"with\",percent,\"% votes\")\n",
    "            break\n",
    "        else :\n",
    "            percent = (leader_1_votes/num_of_voter)*100\n",
    "            print(leader[0],\"has won\",\"with\",percent,\"% votes\")\n",
    "            break\n",
    "         \n",
    "         \n",
    "    else :    \n",
    "         voter_id = int(input(\"Enter your voter-id no :\"))\n",
    "         if voter_id in voter:\n",
    "            print(\"You are a voter \")\n",
    "            voter.remove(voter_id)\n",
    "            print(\"========================================================\\n\")\n",
    "            print(\"Here are the list of leader name :\")\n",
    "            print(\" 1.leader-1 : \",leader[0],\n",
    "                  \"\\n 2.leader-2 :\",leader[1],\n",
    "                  \"\\n 3.leader-3 :\",leader[2], \n",
    "                  \"\\n 4.leader-4 :\",leader[3],\n",
    "                  \"\\n 5.leader-5 :\",leader[4])\n",
    "             \n",
    "            vote = int(input(\"Cast your vote for leader 1 or leader2 or leader3 or leader4 or leader5  :\\n\"\n",
    "             \" Write only sr. no of leader(like 1 or 2 ) :\\n\"))\n",
    "            print(\"===========================================================\\n\")\n",
    "            if vote == 1:\n",
    "               leader_1_votes+=1\n",
    "               print(\"Thank you for casting your vote \")\n",
    "            elif vote == 2:\n",
    "               leader_2_votes+=1\n",
    "               print(\"Thank you for casting your vote\")\n",
    "            elif vote == 3:\n",
    "               leader_3_votes+=1\n",
    "               print(\"Thank you for casting your vote\")\n",
    "            elif vote == 4:\n",
    "               leader_4_votes+=1\n",
    "               print(\"Thank you for casting your vote\")\n",
    "            elif vote == 5:\n",
    "               leader_5_votes+=1\n",
    "               print(\"Thank you for casting your vote\")\n",
    "            else :\n",
    "                print(\"Leader is not found \\n PLease enter correct leader number\")\n",
    "         \n",
    "         \n",
    "         else :\n",
    "                \n",
    "               print(\"You have already voted or invalid voter id  \")"
   ]
  },
  {
   "cell_type": "markdown",
   "id": "1d03031d",
   "metadata": {},
   "source": [
    "# 2\n",
    "## Responsive Data Entry Form"
   ]
  },
  {
   "cell_type": "code",
   "execution_count": 12,
   "id": "43416615",
   "metadata": {},
   "outputs": [],
   "source": [
    "#Library importation\n",
    "import tkinter\n",
    "from tkinter import ttk"
   ]
  },
  {
   "cell_type": "code",
   "execution_count": 18,
   "id": "77b85a82",
   "metadata": {},
   "outputs": [],
   "source": [
    "# creating a window with a title\n",
    "window = tkinter.Tk()\n",
    "window.title(\"Data Entry Form\")\n",
    "\n",
    "#creating a frame inside the window. with pack to ensure fitting\n",
    "frame = tkinter.Frame(window)\n",
    "frame.pack()\n",
    "\n",
    "# saving the user information\n",
    "users_info_frame = tkinter.LabelFrame(frame, text='User Information')\n",
    "users_info_frame.grid(row=0, column=0, padx=20, pady=20)\n",
    "\n",
    "first_name_label = tkinter.Label(users_info_frame, text='First Name')\n",
    "first_name_label.grid(row=0, column=0)\n",
    "last_name_label = tkinter.Label(users_info_frame, text='Last Name')\n",
    "last_name_label.grid(row=0, column=1)\n",
    "\n",
    "first_name_entry = tkinter.Entry(users_info_frame)\n",
    "last_name_entry = tkinter.Entry(users_info_frame)\n",
    "first_name_entry.grid(row=1, column=0)\n",
    "last_name_entry.grid(row=1, column=1)\n",
    "\n",
    "title_label = tkinter.Label(users_info_frame, text='Title')\n",
    "title_combobox = ttk.Combobox(users_info_frame, values=['','Mr.','Ms.','Dr.'])\n",
    "title_label.grid(row=0, column=2)\n",
    "title_combobox.grid(row=1, column=2)\n",
    "\n",
    "age_label = tkinter.Label(users_info_frame, text='Age')\n",
    "age_spinbox = tkinter.Spinbox(users_info_frame, from_=18, to=100)\n",
    "age_label.grid(row=2, column=0)\n",
    "age_spinbox.grid(row=3, column=0)\n",
    "\n",
    "nationality_label = tkinter.Label(users_info_frame, text='Nationality')\n",
    "nationality_combobox = ttk.Combobox(users_info_frame, values=['Germany','Nigeria','Canada','USA','France','Holland'])\n",
    "nationality_label.grid(row=2, column=1)\n",
    "nationality_combobox.grid(row=3, column=1)\n",
    "\n",
    "\n",
    "\n",
    "\n",
    "\n",
    "\n",
    "window.mainloop()"
   ]
  },
  {
   "cell_type": "code",
   "execution_count": null,
   "id": "5197c8e4",
   "metadata": {},
   "outputs": [],
   "source": []
  },
  {
   "cell_type": "code",
   "execution_count": null,
   "id": "81cd4de0",
   "metadata": {},
   "outputs": [],
   "source": []
  },
  {
   "cell_type": "code",
   "execution_count": null,
   "id": "d0a20f0b",
   "metadata": {},
   "outputs": [],
   "source": []
  },
  {
   "cell_type": "code",
   "execution_count": null,
   "id": "0ccbb0e0",
   "metadata": {},
   "outputs": [],
   "source": []
  },
  {
   "cell_type": "code",
   "execution_count": null,
   "id": "d0d3b068",
   "metadata": {},
   "outputs": [],
   "source": []
  },
  {
   "cell_type": "code",
   "execution_count": null,
   "id": "01d572fe",
   "metadata": {},
   "outputs": [],
   "source": []
  },
  {
   "cell_type": "code",
   "execution_count": null,
   "id": "6077d396",
   "metadata": {},
   "outputs": [],
   "source": []
  }
 ],
 "metadata": {
  "kernelspec": {
   "display_name": "Python 3 (ipykernel)",
   "language": "python",
   "name": "python3"
  },
  "language_info": {
   "codemirror_mode": {
    "name": "ipython",
    "version": 3
   },
   "file_extension": ".py",
   "mimetype": "text/x-python",
   "name": "python",
   "nbconvert_exporter": "python",
   "pygments_lexer": "ipython3",
   "version": "3.9.13"
  }
 },
 "nbformat": 4,
 "nbformat_minor": 5
}
