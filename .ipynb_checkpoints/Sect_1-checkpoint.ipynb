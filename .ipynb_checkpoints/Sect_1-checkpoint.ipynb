{
 "cells": [
  {
   "cell_type": "markdown",
   "id": "c2f354fb",
   "metadata": {},
   "source": [
    "# 1\n",
    "##CONVERTING TEXT INTO AUDIO"
   ]
  },
  {
   "cell_type": "code",
   "execution_count": 1,
   "id": "e6ca2eb5",
   "metadata": {},
   "outputs": [],
   "source": [
    "from gtts import gTTS\n",
    "from playsound import playsound\n",
    "\n",
    "audio = 'speech.mp3'\n",
    "language= 'en'\n",
    "sp = gTTS(text='My love, my sweetheart, sorry for making you feel bad lastnight, and i hope when you wake up this morning i can get to kiss your beautifull lips. I love you so much Chelsea', \n",
    "          lang= language, slow=False)\n",
    "sp.save(audio)\n",
    "playsound(audio)"
   ]
  },
  {
   "cell_type": "markdown",
   "id": "d201c51d",
   "metadata": {},
   "source": [
    "# 2\n",
    "##QRCODE GENERATOR"
   ]
  },
  {
   "cell_type": "code",
   "execution_count": 2,
   "id": "586050dc",
   "metadata": {},
   "outputs": [],
   "source": [
    "from segno import helpers\n",
    "\n",
    "qr_code_1 = helpers.make_wifi(ssid='Vodafone-6FB4', password='JtYYHsPpz74qesqP', security='WPA')\n",
    "qr_code_1.designator\n",
    "'3-M'\n",
    "qr_code_1.save('Vodafone-Password.png', dark='darkred', light='lightblue', scale=10)"
   ]
  },
  {
   "cell_type": "code",
   "execution_count": 22,
   "id": "8998737e",
   "metadata": {},
   "outputs": [
    {
     "data": {
      "image/png": "[encoded data removed]",
      "text/plain": [
       "<PIL.PngImagePlugin.PngImageFile image mode=P size=370x370>"
      ]
     },
     "execution_count": 22,
     "metadata": {},
     "output_type": "execute_result"
    }
   ],
   "source": [
    "Image.open('Vodafone-Password.png')"
   ]
  },
  {
   "cell_type": "code",
   "execution_count": null,
   "id": "32c67897",
   "metadata": {},
   "outputs": [],
   "source": [
    "import pyqrcode\n",
    "from PIL import Image\n",
    "link = input('Enter anything to generate QRcode: ')\n",
    "qr_code = pyqrcode.create(link)\n",
    "qr_code.png(\"QRcode.png\", scale=5)\n",
    "Image.open(\"QRcode.png\")"
   ]
  },
  {
   "cell_type": "markdown",
   "id": "1c2eab33",
   "metadata": {},
   "source": [
    "# 2.1\n",
    "##BARCODE GENERATOR"
   ]
  },
  {
   "cell_type": "code",
   "execution_count": 5,
   "id": "feed1ec8",
   "metadata": {},
   "outputs": [],
   "source": [
    "import barcode\n",
    "from barcode.writer import ImageWriter\n",
    "\n",
    "# Generate a barcode\n",
    "code = barcode.get('code39', 'Hello World', writer=ImageWriter())\n",
    "\n",
    "# Save the barcode image to a file\n",
    "filename = code.save('hello-world-barcode')"
   ]
  },
  {
   "cell_type": "code",
   "execution_count": 6,
   "id": "91177519",
   "metadata": {},
   "outputs": [
    {
     "data": {
      "text/plain": [
       "'hello-world-barcode.png'"
      ]
     },
     "execution_count": 6,
     "metadata": {},
     "output_type": "execute_result"
    }
   ],
   "source": [
    "filename"
   ]
  },
  {
   "cell_type": "code",
   "execution_count": 8,
   "id": "82a65020",
   "metadata": {},
   "outputs": [
    {
     "data": {
      "image/png": "[encoded data removed]",
      "text/plain": [
       "<PIL.PngImagePlugin.PngImageFile image mode=RGB size=586x280>"
      ]
     },
     "execution_count": 8,
     "metadata": {},
     "output_type": "execute_result"
    }
   ],
   "source": [
    "Image.open('hello-world-barcode.png')"
   ]
  },
  {
   "cell_type": "code",
   "execution_count": 7,
   "id": "d18096bd",
   "metadata": {},
   "outputs": [],
   "source": [
    "import barcode\n",
    "from barcode.writer import ImageWriter\n",
    "\n",
    "def generate_barcode(barcode_type, code, filename):\n",
    "    \"\"\"\n",
    "    Generate a barcode image file of the specified type with the provided code and save it to the specified filename.\n",
    "    \"\"\"\n",
    "    barcode_class = barcode.get_barcode_class(barcode_type)\n",
    "    barcode_image = barcode_class(code, writer=ImageWriter())\n",
    "    barcode_image.save(filename)\n",
    "\n",
    "# Example usage:\n",
    "generate_barcode('ean13', '1234567890128', 'example_barcode.png')"
   ]
  },
  {
   "cell_type": "code",
   "execution_count": 9,
   "id": "33cfb64f",
   "metadata": {},
   "outputs": [
    {
     "data": {
      "image/png": "[encoded data removed]",
      "text/plain": [
       "<PIL.PngImagePlugin.PngImageFile image mode=RGB size=523x280>"
      ]
     },
     "execution_count": 9,
     "metadata": {},
     "output_type": "execute_result"
    }
   ],
   "source": [
    "Image.open('example_barcode.png.png')"
   ]
  },
  {
   "cell_type": "code",
   "execution_count": null,
   "id": "5e3278e5",
   "metadata": {},
   "outputs": [],
   "source": [
    "#get required barcode format\n",
    "code_format = barcode.get_barcode_class('code39')"
   ]
  },
  {
   "cell_type": "markdown",
   "id": "5cd50d98",
   "metadata": {},
   "source": [
    "# 3\n",
    "##PASSWORD GENERATOR"
   ]
  },
  {
   "cell_type": "code",
   "execution_count": 5,
   "id": "e320fa27",
   "metadata": {},
   "outputs": [
    {
     "name": "stdout",
     "output_type": "stream",
     "text": [
      "ZBeQ2xfoHKN3mgID\n"
     ]
    }
   ],
   "source": [
    "import random\n",
    "\n",
    "lower = \"abcdefghijklmnopqrstuvwxyz\"\n",
    "upper = \"ABCDEFGHIJKLMNOPQRSTUVWXYZ\"\n",
    "numbers = \"123456789\"\n",
    "symbols = \"-_/\"\n",
    "all = lower + upper + numbers + symbols\n",
    "length = 16\n",
    "\n",
    "password = \"\".join(random.sample(all,length))\n",
    "\n",
    "print(password)"
   ]
  },
  {
   "cell_type": "markdown",
   "id": "fb2cf98a",
   "metadata": {},
   "source": [
    "# 4\n",
    "##YOUTUBE VIDEO DOWNLOAD"
   ]
  },
  {
   "cell_type": "code",
   "execution_count": 9,
   "id": "873d6466",
   "metadata": {},
   "outputs": [
    {
     "name": "stdout",
     "output_type": "stream",
     "text": [
      "Enter video url: https://www.youtube.com/watch?v=qe02Ot_YbQw\n"
     ]
    },
    {
     "data": {
      "text/plain": [
       "'/Users/sholamicheal/Downloads/New Farming Business Ideas - Design Best Way To Utilize Agricultural Land MIXEDINTEGRATED FARMING.mp4'"
      ]
     },
     "execution_count": 9,
     "metadata": {},
     "output_type": "execute_result"
    }
   ],
   "source": [
    "import pytube\n",
    "\n",
    "# Ask for user input\n",
    "video_url = input('Enter video url: ')\n",
    "\n",
    "# Create video instance\n",
    "video_content = pytube.YouTube(video_url)\n",
    "\n",
    "stream = video_content.streams.get_highest_resolution()\n",
    "\n",
    "stream.download('/Users/sholamicheal/Downloads')"
   ]
  },
  {
   "cell_type": "markdown",
   "id": "10881479",
   "metadata": {},
   "source": [
    "## 4.1\n",
    "\n",
    "##Displaying and playing youtube video"
   ]
  },
  {
   "cell_type": "code",
   "execution_count": 10,
   "id": "9dc0fda5",
   "metadata": {},
   "outputs": [
    {
     "data": {
      "image/jpeg": "[encoded data removed]",
      "text/html": [
       "\n",
       "        <iframe\n",
       "            width=\"800\"\n",
       "            height=\"500\"\n",
       "            src=\"https://www.youtube.com/embed/H3YaKYLJ4rQ\"\n",
       "            frameborder=\"0\"\n",
       "            allowfullscreen\n",
       "            \n",
       "        ></iframe>\n",
       "        "
      ],
      "text/plain": [
       "<IPython.lib.display.YouTubeVideo at 0x7f80eae4fc40>"
      ]
     },
     "execution_count": 10,
     "metadata": {},
     "output_type": "execute_result"
    }
   ],
   "source": [
    "from IPython.display import YouTubeVideo\n",
    "YouTubeVideo(\"H3YaKYLJ4rQ\", width=800, height=500)"
   ]
  },
  {
   "cell_type": "markdown",
   "id": "c229f642",
   "metadata": {},
   "source": [
    "# 5 \n",
    "##Audio/Speech to text"
   ]
  },
  {
   "cell_type": "code",
   "execution_count": null,
   "id": "61e77ebe",
   "metadata": {},
   "outputs": [],
   "source": [
    "import requests\n",
    "import time\n",
    "from pprint import pprint"
   ]
  },
  {
   "cell_type": "code",
   "execution_count": null,
   "id": "18aa370e",
   "metadata": {},
   "outputs": [],
   "source": [
    "BASE_URL = \"https://api.assemblyai.com/v2/transcript\"\n",
    "audio_url = 'https://tinyurl.com/QuantumTheoryMP3'\n",
    "\n",
    "# You can get free API key from assemblyAI's website\n",
    "headers = {\n",
    "    'authorization': 'your_api_key', \n",
    "    'content-type': 'application/json'\n",
    "}\n",
    "request_body = {'audio_url': audio_url}\n",
    "\n",
    "resonse = requests.post(BASE_URL, json=request_body, headers=headers)\n",
    "transcript_id = resonse.json().get('id')\n",
    "print(f'{transcript_id = }')"
   ]
  },
  {
   "cell_type": "code",
   "execution_count": null,
   "id": "1ef42668",
   "metadata": {},
   "outputs": [],
   "source": [
    "url = f\"{BASE_URL}/{transcript_id}\"\n",
    "\n",
    "while True:\n",
    "    polling_response = requests.get(url, headers=headers)\n",
    "    polling_response = polling_response.json()\n",
    "    print(polling_response['status'])\n",
    "    if polling_response['status'] == 'completed':\n",
    "        break\n",
    "    time.sleep(20)\n",
    "    \n",
    "pprint(polling_response['text']) "
   ]
  },
  {
   "cell_type": "markdown",
   "id": "41c0a0e8",
   "metadata": {},
   "source": [
    "# 6\n",
    "##Digital Clock"
   ]
  },
  {
   "cell_type": "code",
   "execution_count": 21,
   "id": "0babbc77",
   "metadata": {},
   "outputs": [],
   "source": [
    "import tkinter\n",
    "from tkinter import *\n",
    "from time import strftime\n",
    "\n",
    "root =Tk()\n",
    "root.geometry(\"500x500\")\n",
    "root.resizable(0,0)\n",
    "root.title(\"Digital Python Clock\")\n",
    "\n",
    "Label(root,text= \"POP's SHIP\", font= 'ariel 20 bold').pack(side=BOTTOM)\n",
    "\n",
    "def time():\n",
    "    string = strftime('%H:%M:%S %p')\n",
    "    mark.config(text = string)\n",
    "    mark.after(1000, time)\n",
    "    \n",
    "mark = Label(root,\n",
    "            font = ('calibri', 40, 'bold'),\n",
    "            pady=150,\n",
    "            foreground = 'green')\n",
    "\n",
    "mark.pack(anchor = 'center')\n",
    "time()\n",
    "\n",
    "mainloop()"
   ]
  },
  {
   "cell_type": "code",
   "execution_count": null,
   "id": "c527d18b",
   "metadata": {},
   "outputs": [],
   "source": []
  },
  {
   "cell_type": "code",
   "execution_count": null,
   "id": "c7e2b5b7",
   "metadata": {},
   "outputs": [],
   "source": []
  },
  {
   "cell_type": "code",
   "execution_count": null,
   "id": "15e2ebb9",
   "metadata": {},
   "outputs": [],
   "source": []
  }
 ],
 "metadata": {
  "kernelspec": {
   "display_name": "Python 3 (ipykernel)",
   "language": "python",
   "name": "python3"
  },
  "language_info": {
   "codemirror_mode": {
    "name": "ipython",
    "version": 3
   },
   "file_extension": ".py",
   "mimetype": "text/x-python",
   "name": "python",
   "nbconvert_exporter": "python",
   "pygments_lexer": "ipython3",
   "version": "3.9.16"
  }
 },
 "nbformat": 4,
 "nbformat_minor": 5
}
