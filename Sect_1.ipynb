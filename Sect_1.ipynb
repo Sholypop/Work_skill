{
 "cells": [
  {
   "cell_type": "markdown",
   "id": "1bb546c2",
   "metadata": {},
   "source": [
    "# 1\n",
    "##CONVERTING TEXT INTO AUDIO"
   ]
  },
  {
   "cell_type": "code",
   "execution_count": null,
   "id": "161914e1",
   "metadata": {},
   "outputs": [],
   "source": [
    "from gtts import gTTS\n",
    "from playsound import playsound\n",
    "\n",
    "audio = 'speech.mp3'\n",
    "language= 'en'\n",
    "sp = gTTS(text='My love, my sweetheart, sorry for making you feel bad lastnight, and i hope when you wake up this morning i can get to kiss your beautifull lips. I love you so much Chelsea', \n",
    "          lang= language, slow=False)\n",
    "sp.save(audio)\n",
    "playsound(audio)"
   ]
  },
  {
   "cell_type": "markdown",
   "id": "da5f67e4",
   "metadata": {},
   "source": [
    "# 2\n",
    "##QRCODE GENERATOR"
   ]
  },
  {
   "cell_type": "code",
   "execution_count": 2,
   "id": "4b0c1933",
   "metadata": {},
   "outputs": [],
   "source": [
    "from segno import helpers\n",
    "\n",
    "qr_code_1 = helpers.make_wifi(ssid='Vodafone-6FB4', password='JtYYHsPpz74qesqP', security='WPA')\n",
    "qr_code_1.designator\n",
    "'3-M'\n",
    "qr_code_1.save('Vodafone-Password.png', dark='darkred', light='lightblue', scale=10)"
   ]
  },
  {
   "cell_type": "markdown",
   "id": "decc54d0",
   "metadata": {},
   "source": [
    "# 3\n",
    "##PASSWORD GENERATOR"
   ]
  },
  {
   "cell_type": "code",
   "execution_count": 5,
   "id": "85d1f9d5",
   "metadata": {},
   "outputs": [
    {
     "name": "stdout",
     "output_type": "stream",
     "text": [
      "ZBeQ2xfoHKN3mgID\n"
     ]
    }
   ],
   "source": [
    "import random\n",
    "\n",
    "lower = \"abcdefghijklmnopqrstuvwxyz\"\n",
    "upper = \"ABCDEFGHIJKLMNOPQRSTUVWXYZ\"\n",
    "numbers = \"123456789\"\n",
    "symbols = \"-_/\"\n",
    "all = lower + upper + numbers + symbols\n",
    "length = 16\n",
    "\n",
    "password = \"\".join(random.sample(all,length))\n",
    "\n",
    "print(password)"
   ]
  },
  {
   "cell_type": "code",
   "execution_count": null,
   "id": "e1215cd3",
   "metadata": {},
   "outputs": [],
   "source": []
  }
 ],
 "metadata": {
  "kernelspec": {
   "display_name": "Python 3 (ipykernel)",
   "language": "python",
   "name": "python3"
  },
  "language_info": {
   "codemirror_mode": {
    "name": "ipython",
    "version": 3
   },
   "file_extension": ".py",
   "mimetype": "text/x-python",
   "name": "python",
   "nbconvert_exporter": "python",
   "pygments_lexer": "ipython3",
   "version": "3.9.13"
  }
 },
 "nbformat": 4,
 "nbformat_minor": 5
}
