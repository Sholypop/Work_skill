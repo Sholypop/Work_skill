{
 "cells": [
  {
   "cell_type": "markdown",
   "id": "df401f2a",
   "metadata": {},
   "source": [
    "# 1\n",
    "## phone-number Tracker"
   ]
  },
  {
   "cell_type": "code",
   "execution_count": 1,
   "id": "595588ff",
   "metadata": {},
   "outputs": [],
   "source": [
    "import json \n",
    "import pycountry\n",
    "from tkinter import Tk, Label, Button, Entry\n",
    "from phone_iso3166.country import phone_country"
   ]
  },
  {
   "cell_type": "code",
   "execution_count": 2,
   "id": "70e477d6",
   "metadata": {},
   "outputs": [
    {
     "name": "stdout",
     "output_type": "stream",
     "text": [
      "Country(alpha_2='DE', alpha_3='DEU', flag='🇩🇪', name='Germany', numeric='276', official_name='Federal Republic of Germany')\n"
     ]
    }
   ],
   "source": [
    "class Location_Tracker:\n",
    "    def __init__(self, App):\n",
    "        self.window = App\n",
    "        self.window.title(\"Phone number Tracker\")\n",
    "        self.window.geometry(\"500x400\")\n",
    "        self.window.configure(bg=\"#3f5efb\")\n",
    "        self.window.resizable(False, False)\n",
    "\n",
    "        #___________Application menu_____________\n",
    "        Label(App, text=\"Enter a phone number\",fg=\"white\", font=(\"Times\", 20), bg=\"#3f5efb\").place(x=150,y= 30)\n",
    "        self.phone_number = Entry(App, width=16, font=(\"Arial\", 15), relief=\"flat\")\n",
    "        self.track_button = Button(App, text=\"Track Country\", bg=\"#22c1c3\", relief=\"sunken\")\n",
    "        self.country_label = Label(App,fg=\"white\", font=(\"Times\", 20), bg=\"#3f5efb\")\n",
    "\n",
    "        #___________Place widgets on the window______\n",
    "        self.phone_number.place(x=170, y=120)\n",
    "        self.track_button.place(x=200, y=200)\n",
    "        self.country_label.place(x=100, y=280)\n",
    "\n",
    "        #__________Linking button with countries ________\n",
    "        self.track_button.bind(\"<Button-1>\", self.Track_location)\n",
    "        #255757294146\n",
    "    \n",
    "    def Track_location(self,event):\n",
    "        phone_number = self.phone_number.get()\n",
    "        country = \"Country is Unknown\"\n",
    "        if phone_number:\n",
    "            tracked = pycountry.countries.get(alpha_2=phone_country(phone_number))\n",
    "            print(tracked)\n",
    "            if tracked:\n",
    "                    if hasattr(tracked, \"official_name\"):\n",
    "                        country = tracked.official_name\n",
    "                    else:\n",
    "                        country = tracked.name\n",
    "        self.country_label.configure(text=country)\n",
    "\n",
    "\n",
    "\n",
    "PhoneTracker = Tk()\n",
    "MyApp = Location_Tracker(PhoneTracker)\n",
    "PhoneTracker.mainloop()"
   ]
  },
  {
   "cell_type": "markdown",
   "id": "f8bb0758",
   "metadata": {},
   "source": [
    "# 2\n",
    "## Country Information"
   ]
  },
  {
   "cell_type": "code",
   "execution_count": 3,
   "id": "f5e61128",
   "metadata": {},
   "outputs": [
    {
     "name": "stdout",
     "output_type": "stream",
     "text": [
      "Enter country name: Tanzania\n",
      "Capital is:  Dodoma\n",
      "Currency is:  ['TZS']\n",
      "Language is:  ['sw', 'en']\n",
      "Borders are:  ['BDI', 'COD', 'KEN', 'MWI', 'MOZ', 'RWA', 'UGA', 'ZMB']\n",
      "Other names:  ['TZ', 'United Republic of Tanzania', 'Jamhuri ya Muungano wa Tanzania']\n"
     ]
    }
   ],
   "source": [
    "from countryinfo import CountryInfo\n",
    "\n",
    "# user input of country name\n",
    "user_choice = input(\"Enter country name: \")\n",
    "country = CountryInfo(user_choice)\n",
    "\n",
    "print(\"Capital is: \",country.capital())\n",
    "print(\"Currency is: \",country.currencies())\n",
    "print(\"Language is: \",country.languages())\n",
    "print(\"Borders are: \",country.borders())\n",
    "print(\"Other names: \",country.alt_spellings())"
   ]
  },
  {
   "cell_type": "markdown",
   "id": "78462f38",
   "metadata": {},
   "source": [
    "# 3\n",
    "## creating a progress bar"
   ]
  },
  {
   "cell_type": "code",
   "execution_count": 2,
   "id": "90d0dde8",
   "metadata": {},
   "outputs": [
    {
     "name": "stderr",
     "output_type": "stream",
     "text": [
      "100%|███████████████████████████████████████████| 10/10 [00:20<00:00,  2.01s/it]\n"
     ]
    }
   ],
   "source": [
    "import time\n",
    "from tqdm import tqdm\n",
    "for i in tqdm(range(10)):\n",
    "    time.sleep(2)"
   ]
  },
  {
   "cell_type": "code",
   "execution_count": null,
   "id": "f833bfc7",
   "metadata": {},
   "outputs": [],
   "source": []
  }
 ],
 "metadata": {
  "kernelspec": {
   "display_name": "Python 3 (ipykernel)",
   "language": "python",
   "name": "python3"
  },
  "language_info": {
   "codemirror_mode": {
    "name": "ipython",
    "version": 3
   },
   "file_extension": ".py",
   "mimetype": "text/x-python",
   "name": "python",
   "nbconvert_exporter": "python",
   "pygments_lexer": "ipython3",
   "version": "3.9.16"
  }
 },
 "nbformat": 4,
 "nbformat_minor": 5
}
